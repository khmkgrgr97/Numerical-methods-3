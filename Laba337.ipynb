{
 "cells": [
  {
   "cell_type": "markdown",
   "metadata": {},
   "source": [
    "##### Задание 3.3.7 \n",
    "##### Дана матрица A. Найти число обусловленности матрицы, используя вычислительный эксперимент."
   ]
  },
  {
   "cell_type": "code",
   "execution_count": 1,
   "metadata": {},
   "outputs": [],
   "source": [
    "import numpy as np\n",
    "k=5\n",
    "p = 1\n",
    "#заданная матрицы\n",
    "A=np.array([[1,0.5,0.333,0.25,0.2],\n",
    "            [0.5,0.333,0.25,0.2,0.167],\n",
    "            [0.333,0.25,0.2,0.167,0.143],\n",
    "            [0.25,0.2,0.167,0.143,0.125],\n",
    "            [0.2,0.167,0.143,0.125,0.111]])"
   ]
  },
  {
   "cell_type": "code",
   "execution_count": 2,
   "metadata": {},
   "outputs": [
    {
     "data": {
      "text/plain": [
       "array([[    8.14782606,   -26.24810656,   -24.06834284,   114.13492936,\n",
       "          -72.71373478],\n",
       "       [  -26.24810656,    97.11458396,   336.34294191, -1125.61918647,\n",
       "          735.46705772],\n",
       "       [  -24.06834284,   336.34294191, -1483.48978182,  2429.85395299,\n",
       "        -1287.82259508],\n",
       "       [  114.13492936, -1125.61918647,  2429.85395299, -1290.27802645,\n",
       "         -189.48597932],\n",
       "       [  -72.71373478,   735.46705772, -1287.82259508,  -189.48597932,\n",
       "          905.98312459]])"
      ]
     },
     "execution_count": 2,
     "metadata": {},
     "output_type": "execute_result"
    }
   ],
   "source": [
    "#берем 5 линейно независимых векторов \n",
    "b=np.array([[1,0,0,0,0],\n",
    "            [0,1,0,0,0],\n",
    "            [0,0,1,0,0],\n",
    "            [0,0,0,1,0],\n",
    "            [0,0,0,0,1]])\n",
    "\n",
    "#решаем систему Ax=b для каждого из b \n",
    "x=np.array([np.linalg.solve(A,b[i]) for i in range(k)])\n",
    "x"
   ]
  },
  {
   "cell_type": "code",
   "execution_count": 3,
   "metadata": {},
   "outputs": [],
   "source": [
    "#для каждого решения х ищем отношение ||x||/||b||\n",
    "C = np.array([np.linalg.norm(x[i], p)/np.linalg.norm(b[i], p) for i in range(k)])"
   ]
  },
  {
   "cell_type": "code",
   "execution_count": 4,
   "metadata": {},
   "outputs": [
    {
     "data": {
      "text/plain": [
       "5561.577614650466"
      ]
     },
     "execution_count": 4,
     "metadata": {},
     "output_type": "execute_result"
    }
   ],
   "source": [
    "#вычисляем норму матрицы А^(-1) по заданной формуле\n",
    "A1 = max(C)\n",
    "A1"
   ]
  },
  {
   "cell_type": "code",
   "execution_count": 5,
   "metadata": {},
   "outputs": [
    {
     "data": {
      "text/plain": [
       "12697.081694247016"
      ]
     },
     "execution_count": 5,
     "metadata": {},
     "output_type": "execute_result"
    }
   ],
   "source": [
    "#вычисляем число обусловленности по заданной формуле\n",
    "cond = A1*np.linalg.norm(A, p)\n",
    "cond"
   ]
  },
  {
   "cell_type": "code",
   "execution_count": 6,
   "metadata": {},
   "outputs": [
    {
     "data": {
      "text/plain": [
       "12697.081694247016"
      ]
     },
     "execution_count": 6,
     "metadata": {},
     "output_type": "execute_result"
    }
   ],
   "source": [
    "#сравним результат с числом обусловленности: числа совпали.\n",
    "np.linalg.cond(A, p)"
   ]
  },
  {
   "cell_type": "code",
   "execution_count": null,
   "metadata": {},
   "outputs": [],
   "source": []
  },
  {
   "cell_type": "code",
   "execution_count": null,
   "metadata": {},
   "outputs": [],
   "source": []
  }
 ],
 "metadata": {
  "kernelspec": {
   "display_name": "Python 2",
   "language": "python",
   "name": "python2"
  },
  "language_info": {
   "codemirror_mode": {
    "name": "ipython",
    "version": 2
   },
   "file_extension": ".py",
   "mimetype": "text/x-python",
   "name": "python",
   "nbconvert_exporter": "python",
   "pygments_lexer": "ipython2",
   "version": "2.7.15"
  }
 },
 "nbformat": 4,
 "nbformat_minor": 2
}
