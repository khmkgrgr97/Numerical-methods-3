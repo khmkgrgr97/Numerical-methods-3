{
 "cells": [
  {
   "cell_type": "markdown",
   "metadata": {},
   "source": [
    "#### Хомюк Григорий Александрович, БПМ161\n",
    "### ЛАБОРАТОРНАЯ РАБОТА 3.\n",
    "### РЕШЕНИЕ СИСТЕМ ЛИНЕЙНЫХ АЛГЕБРАИЧЕСКИХ УРАВНЕНИЙ ПРЯМЫМИ МЕТОДАМИ. ТЕОРИЯ ВОЗМУЩЕНИЙ\n"
   ]
  },
  {
   "cell_type": "markdown",
   "metadata": {},
   "source": [
    "##### Задание 3.1.27\n",
    "##### Дана система уравнений Ax=b порядка n. Исследовать зависимость погрешности решения x от погрешностей правой части системы b."
   ]
  },
  {
   "cell_type": "code",
   "execution_count": 1,
   "metadata": {},
   "outputs": [],
   "source": [
    "import numpy as np\n",
    "import matplotlib.pyplot as plt\n",
    "import copy\n",
    "\n",
    "n=6 #размерность \n",
    "N=27 #компоненты вектора свободных членов\n",
    "def c(i,j): #коэффициенты для элементов матрицы А\n",
    "    return 0.1*N*i*j\n",
    "\n",
    "def gauss (A,b): #функция для метода Гаусса\n",
    "    M=copy.copy(A) \n",
    "    s=copy.copy(b)\n",
    "    x=np.zeros(n)\n",
    "    \n",
    "    #прямой ход\n",
    "    for j in range(n):\n",
    "        for i in range(j+1,n):\n",
    "            mu=M[i,j]/M[j,j] #коэффициент\n",
    "            M[i]-=M[j]*mu \n",
    "            s[i]-=s[j]*mu\n",
    "            \n",
    "    #обратный ход        \n",
    "    x[n-1]=s[n-1]/M[n-1,n-1]\n",
    "    \n",
    "    for j in range(n-2,-1,-1):\n",
    "        l=0\n",
    "        for i in range(n-1-j):\n",
    "            l+=(x[n-1-i]*M[j,n-1-i])\n",
    "        x[j]=(s[j]-l)/M[j,j]\n",
    "    return(x)"
   ]
  },
  {
   "cell_type": "code",
   "execution_count": 130,
   "metadata": {},
   "outputs": [],
   "source": [
    "#Зададим матрицу А и вектор свободных членов\n",
    "A=np.array([[350/((5+0.35*c(i,j))**3) for i in range(n)] for j in range(n)])\n",
    "b=np.array([float(N) for i in range(n)])"
   ]
  },
  {
   "cell_type": "code",
   "execution_count": 140,
   "metadata": {},
   "outputs": [
    {
     "data": {
      "text/plain": [
       "array([[ 9.64293214],\n",
       "       [-0.        ],\n",
       "       [ 0.        ],\n",
       "       [-0.        ],\n",
       "       [ 0.        ],\n",
       "       [-0.        ]])"
      ]
     },
     "execution_count": 140,
     "metadata": {},
     "output_type": "execute_result"
    }
   ],
   "source": [
    "#ищем решение с помощью написанной функции\n",
    "x1=gauss(A,b)\n",
    "x1.reshape(6,1)"
   ]
  },
  {
   "cell_type": "code",
   "execution_count": 141,
   "metadata": {},
   "outputs": [
    {
     "data": {
      "text/plain": [
       "array([[ 9.64293214],\n",
       "       [-0.        ],\n",
       "       [-0.        ],\n",
       "       [ 0.        ],\n",
       "       [-0.        ],\n",
       "       [ 0.        ]])"
      ]
     },
     "execution_count": 141,
     "metadata": {},
     "output_type": "execute_result"
    }
   ],
   "source": [
    "#ищем решение с помощью встроенной функции solve \n",
    "x2=np.linalg.solve(A,b)\n",
    "x2.reshape(6,1)"
   ]
  },
  {
   "cell_type": "code",
   "execution_count": 142,
   "metadata": {},
   "outputs": [
    {
     "data": {
      "text/plain": [
       "432398.4128820571"
      ]
     },
     "execution_count": 142,
     "metadata": {},
     "output_type": "execute_result"
    }
   ],
   "source": [
    "#ищем число обусловленности матрицы А\n",
    "np.linalg.cond(A)"
   ]
  },
  {
   "cell_type": "code",
   "execution_count": 153,
   "metadata": {},
   "outputs": [
    {
     "data": {
      "text/plain": [
       "array([[1.23503556e-05],\n",
       "       [4.85668270e-04],\n",
       "       [6.75729057e-03],\n",
       "       [1.67824103e-02],\n",
       "       [2.76433287e-02],\n",
       "       [9.52996989e-03]])"
      ]
     },
     "execution_count": 153,
     "metadata": {},
     "output_type": "execute_result"
    }
   ],
   "source": [
    "#зададим произвольную величину погрешности\n",
    "eps=0.00001\n",
    "d=np.zeros(n)\n",
    "x=copy.copy(x1) #решение из п1 как точное\n",
    "for i in range(n):\n",
    "    b1=copy.copy(b)\n",
    "    b1[i]+=eps\n",
    "    xi=np.linalg.solve(A,b1)\n",
    "    d[i]=max(x-xi)/max(x) # вектор относительных погрешностей решений\n",
    "d.reshape(6,1)\n"
   ]
  },
  {
   "cell_type": "code",
   "execution_count": 154,
   "metadata": {},
   "outputs": [
    {
     "data": {
      "image/png": "[encoded data removed]",
      "text/plain": [
       "<Figure size 432x288 with 1 Axes>"
      ]
     },
     "metadata": {
      "needs_background": "light"
     },
     "output_type": "display_data"
    },
    {
     "name": "stdout",
     "output_type": "stream",
     "text": [
      "0.02764332865955184  - max погрешность у  5  - i  компоненты\n"
     ]
    }
   ],
   "source": [
    "#построим гистограмму\n",
    "xh=np.arange(1,n+1) #компонента\n",
    "yh=d #погрешности\n",
    "\n",
    "plt.bar(xh,yh)\n",
    "plt.show()\n",
    "\n",
    "print(max(d),' - max погрешность у ',np.where(d==max(d))[0][0]+1,' - i  компоненты')"
   ]
  },
  {
   "cell_type": "code",
   "execution_count": 159,
   "metadata": {},
   "outputs": [
    {
     "name": "stdout",
     "output_type": "stream",
     "text": [
      "4.323984128820571\n",
      "True\n",
      "True\n",
      "True\n",
      "True\n",
      "True\n",
      "True\n"
     ]
    }
   ],
   "source": [
    "#оценим теоретически погрешность решения \n",
    "print(np.linalg.cond(A)*eps)\n",
    "#сравним со значениями практической погрешности\n",
    "for i in range(n):\n",
    "    print(d[i]<=np.linalg.cond(A)*eps)"
   ]
  },
  {
   "cell_type": "code",
   "execution_count": null,
   "metadata": {},
   "outputs": [],
   "source": [
    "#Вывод: практическая погрешность меньше теоретической, \n",
    "#т.к. теоретическая является оценочной и не вычисляется с должной точностью"
   ]
  },
  {
   "cell_type": "code",
   "execution_count": null,
   "metadata": {},
   "outputs": [],
   "source": []
  }
 ],
 "metadata": {
  "kernelspec": {
   "display_name": "Python 2",
   "language": "python",
   "name": "python2"
  },
  "language_info": {
   "codemirror_mode": {
    "name": "ipython",
    "version": 2
   },
   "file_extension": ".py",
   "mimetype": "text/x-python",
   "name": "python",
   "nbconvert_exporter": "python",
   "pygments_lexer": "ipython2",
   "version": "2.7.15"
  }
 },
 "nbformat": 4,
 "nbformat_minor": 2
}
