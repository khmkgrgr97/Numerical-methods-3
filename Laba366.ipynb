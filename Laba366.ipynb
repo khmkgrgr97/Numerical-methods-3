{
 "cells": [
  {
   "cell_type": "markdown",
   "metadata": {},
   "source": [
    "##### Задание 3.6.6\n",
    "##### Дана система уравнений Ax=b порядка n, где A=A(t), t - параметр. Исследовать зависимость решения системы Ax=b от вычислительной погрешности при заданных значениях параметра t."
   ]
  },
  {
   "cell_type": "code",
   "execution_count": 1,
   "metadata": {},
   "outputs": [],
   "source": [
    "import numpy as np\n",
    "import copy\n",
    "import math \n",
    "\n",
    "M=6\n",
    "m=6 #округление до 6 знаков после запятой\n",
    "n=100 #порядок\n",
    "t1=0.0001\n",
    "t2=1\n",
    "t3=10000\n",
    "\n",
    "def gauss (A,b): #функция для метода Гаусса\n",
    "    M=copy.copy(A) \n",
    "    s=copy.copy(b)\n",
    "    x=np.zeros(n)\n",
    "    \n",
    "    #прямой ход\n",
    "    for j in range(n):\n",
    "        for i in range(j+1,n):\n",
    "            mu=M[i,j]/M[j,j] #коэффициент\n",
    "            M[i]-=M[j]*mu \n",
    "            s[i]-=s[j]*mu\n",
    "            \n",
    "    #обратный ход        \n",
    "    x[n-1]=s[n-1]/M[n-1,n-1]\n",
    "    \n",
    "    for j in range(n-2,-1,-1):\n",
    "        l=0\n",
    "        for i in range(n-1-j):\n",
    "            l+=(x[n-1-i]*M[j,n-1-i])\n",
    "        x[j]=(s[j]-l)/M[j,j]\n",
    "    return(x)"
   ]
  },
  {
   "cell_type": "code",
   "execution_count": 2,
   "metadata": {},
   "outputs": [],
   "source": [
    "#вычисляем q по заданной формуле\n",
    "q=0.993+((-1)**M)*(10**(-4))*M\n",
    "\n",
    "#Вычислим три матрицы А для разных значений t\n",
    "A_1=np.zeros([n,n])\n",
    "A_2=np.zeros([n,n])\n",
    "A_3=np.zeros([n,n])\n",
    "for i in range(100):\n",
    "    for j in range(100):\n",
    "        if i!=j:\n",
    "            A_1[i,j]=q**j\n",
    "            A_2[i,j]=q**j\n",
    "            A_3[i,j]=q**j\n",
    "        else:\n",
    "            A_1[i,j]=q**j+t1\n",
    "            A_2[i,j]=q**j+t2\n",
    "            A_3[i,j]=q**j+t3\n",
    "#вычисляем вектор b по заданной формуле\n",
    "b=np.zeros(n)\n",
    "for j in range(n):\n",
    "    b[j]=q**(n+1-j)"
   ]
  },
  {
   "cell_type": "code",
   "execution_count": 3,
   "metadata": {},
   "outputs": [],
   "source": [
    "#решаем системы методом Гаусса\n",
    "x_1=gauss(A_1,b)\n",
    "x_2=gauss(A_2,b)\n",
    "x_3=gauss(A_3,b)"
   ]
  },
  {
   "cell_type": "code",
   "execution_count": 4,
   "metadata": {},
   "outputs": [],
   "source": [
    "#функция, округляющая число до заданной точности m \n",
    "def roundm(x):\n",
    "        d = 10.0**m\n",
    "        return math.floor(x*d)/d"
   ]
  },
  {
   "cell_type": "code",
   "execution_count": 5,
   "metadata": {},
   "outputs": [],
   "source": [
    "#вычислим аналогично три матрицы А с округлением\n",
    "A1_1=np.zeros([n,n])\n",
    "A1_2=np.zeros([n,n])\n",
    "A1_3=np.zeros([n,n])\n",
    "for i in range(100):\n",
    "    for j in range(100):\n",
    "        if i!=j:\n",
    "            A1_1[i,j]=roundm(q**j)\n",
    "            A1_2[i,j]=roundm(q**j)\n",
    "            A1_3[i,j]=roundm(q**j)\n",
    "        else:\n",
    "            A1_1[i,j]=roundm(q**j+t1)\n",
    "            A1_2[i,j]=roundm(q**j+t2)\n",
    "            A1_3[i,j]=roundm(q**j+t3)\n",
    "#вектор b с округлением\n",
    "b1=np.zeros(n)\n",
    "for j in range(n):\n",
    "    b1[j]=roundm(q**(n+1-j))\n",
    "#решим полученные системы методом Гаусса    \n",
    "x1_1=gauss(A1_1,b1)\n",
    "x1_2=gauss(A1_2,b1)\n",
    "x1_3=gauss(A1_3,b1)"
   ]
  },
  {
   "cell_type": "code",
   "execution_count": 6,
   "metadata": {},
   "outputs": [
    {
     "data": {
      "text/plain": [
       "0.030302822211248116"
      ]
     },
     "execution_count": 6,
     "metadata": {},
     "output_type": "execute_result"
    }
   ],
   "source": [
    "#посчитаем погрешности как норму разности между полученными решениями с округлением и без округления\n",
    "e1=np.linalg.norm(x_1-x1_1)\n",
    "e1"
   ]
  },
  {
   "cell_type": "code",
   "execution_count": 7,
   "metadata": {},
   "outputs": [
    {
     "data": {
      "text/plain": [
       "3.0297912444046617e-06"
      ]
     },
     "execution_count": 7,
     "metadata": {},
     "output_type": "execute_result"
    }
   ],
   "source": [
    "e2=np.linalg.norm(x_2-x1_2)\n",
    "e2"
   ]
  },
  {
   "cell_type": "code",
   "execution_count": 8,
   "metadata": {},
   "outputs": [
    {
     "data": {
      "text/plain": [
       "5.769026829970399e-10"
      ]
     },
     "execution_count": 8,
     "metadata": {},
     "output_type": "execute_result"
    }
   ],
   "source": [
    "e3=np.linalg.norm(x_3-x1_3)\n",
    "e3"
   ]
  },
  {
   "cell_type": "code",
   "execution_count": 9,
   "metadata": {},
   "outputs": [],
   "source": [
    "#чем больше величина t, тем меньше значение погрешности "
   ]
  },
  {
   "cell_type": "code",
   "execution_count": null,
   "metadata": {},
   "outputs": [],
   "source": []
  }
 ],
 "metadata": {
  "kernelspec": {
   "display_name": "Python 2",
   "language": "python",
   "name": "python2"
  },
  "language_info": {
   "codemirror_mode": {
    "name": "ipython",
    "version": 2
   },
   "file_extension": ".py",
   "mimetype": "text/x-python",
   "name": "python",
   "nbconvert_exporter": "python",
   "pygments_lexer": "ipython2",
   "version": "2.7.15"
  }
 },
 "nbformat": 4,
 "nbformat_minor": 2
}
